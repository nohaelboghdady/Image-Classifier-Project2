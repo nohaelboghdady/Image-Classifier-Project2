{
 "cells": [
  {
   "cell_type": "markdown",
   "metadata": {},
   "source": [
    "# Introduction\n",
    "\n",
    "In this project, you will build a neural network of your own design to evaluate the CIFAR-10 dataset.\n",
    "Our target accuracy is 70%, but any accuracy over 50% is a great start.\n",
    "Some of the benchmark results on CIFAR-10 include:\n",
    "\n",
    "78.9% Accuracy | [Deep Belief Networks; Krizhevsky, 2010](https://www.cs.toronto.edu/~kriz/conv-cifar10-aug2010.pdf)\n",
    "\n",
    "90.6% Accuracy | [Maxout Networks; Goodfellow et al., 2013](https://arxiv.org/pdf/1302.4389.pdf)\n",
    "\n",
    "96.0% Accuracy | [Wide Residual Networks; Zagoruyko et al., 2016](https://arxiv.org/pdf/1605.07146.pdf)\n",
    "\n",
    "99.0% Accuracy | [GPipe; Huang et al., 2018](https://arxiv.org/pdf/1811.06965.pdf)\n",
    "\n",
    "98.5% Accuracy | [Rethinking Recurrent Neural Networks and other Improvements for ImageClassification; Nguyen et al., 2020](https://arxiv.org/pdf/2007.15161.pdf)\n",
    "\n",
    "Research with this dataset is ongoing. Notably, many of these networks are quite large and quite expensive to train. \n",
    "\n",
    "## Imports"
   ]
  },
  {
   "cell_type": "code",
   "execution_count": 2,
   "metadata": {},
   "outputs": [],
   "source": [
    "## This cell contains the essential imports you will need – DO NOT CHANGE THE CONTENTS! ##\n",
    "import torch\n",
    "import torch.nn as nn\n",
    "import torch.nn.functional as F\n",
    "import torch.optim as optim\n",
    "import torchvision\n",
    "import torchvision.transforms as transforms\n",
    "import matplotlib.pyplot as plt\n",
    "import numpy as np"
   ]
  },
  {
   "cell_type": "markdown",
   "metadata": {},
   "source": [
    "## Load the Dataset\n",
    "\n",
    "Specify your transforms as a list first.\n",
    "The transforms module is already loaded as `transforms`.\n",
    "\n",
    "CIFAR-10 is fortunately included in the torchvision module.\n",
    "Then, you can create your dataset using the `CIFAR10` object from `torchvision.datasets` ([the documentation is available here](https://pytorch.org/docs/stable/torchvision/datasets.html#cifar)).\n",
    "Make sure to specify `download=True`! \n",
    "\n",
    "Once your dataset is created, you'll also need to define a `DataLoader` from the `torch.utils.data` module for both the train and the test set."
   ]
  },
  {
   "cell_type": "code",
   "execution_count": 3,
   "metadata": {},
   "outputs": [
    {
     "name": "stdout",
     "output_type": "stream",
     "text": [
      "Files already downloaded and verified\n",
      "Files already downloaded and verified\n"
     ]
    }
   ],
   "source": [
    "# Define transforms\n",
    "## YOUR CODE HERE ##\n",
    "transform = transforms.Compose( [transforms.ToTensor(),transforms.Normalize((0.5, 0.5, 0.5), (0.5, 0.5, 0.5))])\n",
    "   \n",
    "batch_size = 4\n",
    "\n",
    "# Create training set and define training dataloader\n",
    "## YOUR CODE HERE ##\n",
    "trainset = torchvision.datasets.CIFAR10(root='./data', train=True,download=True, transform=transform)\n",
    "trainloader = torch.utils.data.DataLoader(trainset, batch_size=batch_size,shuffle=True, num_workers=2)\n",
    "\n",
    "# Create test set and define test dataloader\n",
    "## YOUR CODE HERE ##\n",
    "testset = torchvision.datasets.CIFAR10(root='./data', train=False,download=True, transform=transform)\n",
    "testloader = torch.utils.data.DataLoader(testset, batch_size=batch_size,shuffle=False, num_workers=2)\n",
    "\n",
    "# The 10 classes in the dataset\n",
    "classes = ('plane', 'car', 'bird', 'cat', 'deer', 'dog', 'frog', 'horse', 'ship', 'truck')"
   ]
  },
  {
   "cell_type": "markdown",
   "metadata": {},
   "source": [
    "## Explore the Dataset\n",
    "Using matplotlib, numpy, and torch, explore the dimensions of your data.\n",
    "\n",
    "You can view images using the `show5` function defined below – it takes a data loader as an argument.\n",
    "Remember that normalized images will look really weird to you! You may want to try changing your transforms to view images.\n",
    "Typically using no transforms other than `toTensor()` works well for viewing – but not as well for training your network.\n",
    "If `show5` doesn't work, go back and check your code for creating your data loaders and your training/test sets."
   ]
  },
  {
   "cell_type": "code",
   "execution_count": 4,
   "metadata": {},
   "outputs": [],
   "source": [
    "def show5(img_loader):\n",
    "    dataiter = iter(img_loader)\n",
    "    \n",
    "    batch = next(dataiter)\n",
    "    labels = batch[1][0:5]\n",
    "    images = batch[0][0:5]\n",
    "    for i in range(4):\n",
    "        print(classes[labels[i]])\n",
    "    \n",
    "        image = images[i].numpy()\n",
    "        plt.imshow(np.clip(np.rot90(image.T, k=3), 0, 1)) # modified cause it always gave an error\n",
    "        plt.show()"
   ]
  },
  {
   "cell_type": "code",
   "execution_count": null,
   "metadata": {},
   "outputs": [
    {
     "name": "stdout",
     "output_type": "stream",
     "text": [
      "cat\n"
     ]
    }
   ],
   "source": [
    "# Explore data\n",
    "## YOUR CODE HERE ##\n",
    "show5(testloader) \n",
    "#this keeps killing kernel and i searched for a fix but nothing worked"
   ]
  },
  {
   "cell_type": "markdown",
   "metadata": {},
   "source": [
    "## Build your Neural Network\n",
    "Using the layers in `torch.nn` (which has been imported as `nn`) and the `torch.nn.functional` module (imported as `F`), construct a neural network based on the parameters of the dataset. \n",
    "Feel free to construct a model of any architecture – feedforward, convolutional, or even something more advanced!"
   ]
  },
  {
   "cell_type": "code",
   "execution_count": 5,
   "metadata": {},
   "outputs": [],
   "source": [
    "## YOUR CODE HERE ##\n",
    "\n",
    "#using that model in the work space makes it doesn't work idk why\n",
    "#also when i try to view images in the work space it works and i'm confused\n",
    "import torch\n",
    "import torch.nn as nn\n",
    "import torch.nn.functional as F\n",
    "\n",
    "class NET(nn.Module):\n",
    "    def __init__(self):\n",
    "        super().__init__()\n",
    "        self.conv1 = nn.Conv2d(3, 6, 5, padding=(1,1))\n",
    "        self.conv2 = nn.Conv2d(6, 16, 5, padding=(1,1))\n",
    "        self.conv3 = nn.Conv2d(16, 100, 5, padding=(1,1))\n",
    "        self.pool = nn.MaxPool2d(2, 2)\n",
    "        self.fc1 = nn.Linear(400, 120)\n",
    "        self.fc2 = nn.Linear(120, 84)\n",
    "        self.fc3 = nn.Linear(84, 18)\n",
    "        self.Dropout = nn.Dropout(0.25)\n",
    "    def forward(self, x):\n",
    "        x = self.pool(F.relu(self.conv1(x)))\n",
    "        x = self.pool(F.relu(self.conv2(x)))\n",
    "        x = self.Dropout(x)\n",
    "        x = self.pool(F.relu(self.conv3(x)))\n",
    "        x = self.Dropout(x)\n",
    "        x = x.reshape(-1, 400) \n",
    "        x = F.relu(self.fc1(x))\n",
    "        x = F.relu(self.fc2(x))\n",
    "        x = self.Dropout(x)\n",
    "        x = self.fc3(x)\n",
    "        return x\n",
    "    \n",
    "net=NET()"
   ]
  },
  {
   "cell_type": "markdown",
   "metadata": {},
   "source": [
    "Specify a loss function and an optimizer, and instantiate the model.\n",
    "\n",
    "If you use a less common loss function, please note why you chose that loss function in a comment."
   ]
  },
  {
   "cell_type": "code",
   "execution_count": 6,
   "metadata": {},
   "outputs": [],
   "source": [
    "## YOUR CODE HERE ##\n",
    "import torch.optim as optim\n",
    "\n",
    "criterion = nn.CrossEntropyLoss()\n",
    "optimizer = optim.SGD(net.parameters(), lr=0.001, momentum=0.9)"
   ]
  },
  {
   "cell_type": "markdown",
   "metadata": {},
   "source": [
    "## Running your Neural Network\n",
    "Use whatever method you like to train your neural network, and ensure you record the average loss at each epoch. \n",
    "Don't forget to use `torch.device()` and the `.to()` method for both your model and your data if you are using GPU!\n",
    "\n",
    "If you want to print your loss during each epoch, you can use the `enumerate` function and print the loss after a set number of batches. 250 batches works well for most people!"
   ]
  },
  {
   "cell_type": "code",
   "execution_count": 18,
   "metadata": {},
   "outputs": [
    {
     "name": "stdout",
     "output_type": "stream",
     "text": [
      "Epoch: 1, Step: 500, Loss: 0.452498865479487\n",
      "Epoch: 1, Step: 1000, Loss: 0.4659758524665376\n",
      "Epoch: 1, Step: 1500, Loss: 0.4922930414371804\n",
      "Epoch: 1, Step: 2000, Loss: 0.49598786061560896\n",
      "Epoch: 1, Step: 2500, Loss: 0.532858936421806\n",
      "Epoch: 1, Step: 3000, Loss: 0.5110090735584963\n",
      "Epoch: 1, Step: 3500, Loss: 0.49050354672479446\n",
      "Epoch: 1, Step: 4000, Loss: 0.5178628933747241\n",
      "Epoch: 1, Step: 4500, Loss: 0.570733295944381\n",
      "Epoch: 1, Step: 5000, Loss: 0.5263640781443101\n",
      "Epoch: 1, Step: 5500, Loss: 0.5613599447741763\n",
      "Epoch: 1, Step: 6000, Loss: 0.4864653700090639\n",
      "Epoch: 1, Step: 6500, Loss: 0.5584794895644009\n",
      "Epoch: 1, Step: 7000, Loss: 0.5598925064208161\n",
      "Epoch: 1, Step: 7500, Loss: 0.5593349959936459\n",
      "Epoch: 1, Step: 8000, Loss: 0.5747011279244761\n",
      "Epoch: 1, Step: 8500, Loss: 0.5756405516820959\n",
      "Epoch: 1, Step: 9000, Loss: 0.5775294338309904\n",
      "Epoch: 1, Step: 9500, Loss: 0.5720036063758307\n",
      "Epoch: 1, Step: 10000, Loss: 0.6232410051070619\n",
      "Epoch: 1, Step: 10500, Loss: 0.6019687755033374\n",
      "Epoch: 1, Step: 11000, Loss: 0.5666896916878759\n",
      "Epoch: 1, Step: 11500, Loss: 0.5982093316801184\n",
      "Epoch: 1, Step: 12000, Loss: 0.5771934529730061\n",
      "Finished a loop\n",
      "Epoch: 2, Step: 500, Loss: 0.4434692332841223\n",
      "Epoch: 2, Step: 1000, Loss: 0.4414387776044314\n",
      "Epoch: 2, Step: 1500, Loss: 0.4411571470068884\n",
      "Epoch: 2, Step: 2000, Loss: 0.4434173343401633\n",
      "Epoch: 2, Step: 2500, Loss: 0.4780622524970677\n",
      "Epoch: 2, Step: 3000, Loss: 0.5038172527828574\n",
      "Epoch: 2, Step: 3500, Loss: 0.49632521729711154\n",
      "Epoch: 2, Step: 4000, Loss: 0.5341050069243647\n",
      "Epoch: 2, Step: 4500, Loss: 0.554289712703845\n",
      "Epoch: 2, Step: 5000, Loss: 0.5554806370001716\n",
      "Epoch: 2, Step: 5500, Loss: 0.4961907085087732\n",
      "Epoch: 2, Step: 6000, Loss: 0.5082171892290935\n",
      "Epoch: 2, Step: 6500, Loss: 0.5151804179805477\n",
      "Epoch: 2, Step: 7000, Loss: 0.5167375514956702\n",
      "Epoch: 2, Step: 7500, Loss: 0.5405245558515307\n",
      "Epoch: 2, Step: 8000, Loss: 0.5615117060721386\n",
      "Epoch: 2, Step: 8500, Loss: 0.544383713916759\n",
      "Epoch: 2, Step: 9000, Loss: 0.5833983925685752\n",
      "Epoch: 2, Step: 9500, Loss: 0.5753520569962566\n",
      "Epoch: 2, Step: 10000, Loss: 0.5538206250683289\n",
      "Epoch: 2, Step: 10500, Loss: 0.559130715112522\n",
      "Epoch: 2, Step: 11000, Loss: 0.6049472736916068\n",
      "Epoch: 2, Step: 11500, Loss: 0.5768342572739348\n",
      "Epoch: 2, Step: 12000, Loss: 0.6055115989402402\n",
      "Finished a loop\n",
      "Epoch: 3, Step: 500, Loss: 0.4137298936375446\n",
      "Epoch: 3, Step: 1000, Loss: 0.4067810244774446\n",
      "Epoch: 3, Step: 1500, Loss: 0.45975830829193\n",
      "Epoch: 3, Step: 2000, Loss: 0.47499552453439536\n",
      "Epoch: 3, Step: 2500, Loss: 0.4726898956006917\n",
      "Epoch: 3, Step: 3000, Loss: 0.48415359447051015\n",
      "Epoch: 3, Step: 3500, Loss: 0.5236420837207697\n",
      "Epoch: 3, Step: 4000, Loss: 0.4556262636292995\n",
      "Epoch: 3, Step: 4500, Loss: 0.4912709155794073\n",
      "Epoch: 3, Step: 5000, Loss: 0.5492038307126058\n",
      "Epoch: 3, Step: 5500, Loss: 0.516641792557406\n",
      "Epoch: 3, Step: 6000, Loss: 0.5179741967077134\n",
      "Epoch: 3, Step: 6500, Loss: 0.5241201561594498\n",
      "Epoch: 3, Step: 7000, Loss: 0.5328822459673974\n",
      "Epoch: 3, Step: 7500, Loss: 0.5313233191766775\n",
      "Epoch: 3, Step: 8000, Loss: 0.568123652552691\n",
      "Epoch: 3, Step: 8500, Loss: 0.5010512993106094\n",
      "Epoch: 3, Step: 9000, Loss: 0.5795401807296439\n",
      "Epoch: 3, Step: 9500, Loss: 0.5804676375070121\n",
      "Epoch: 3, Step: 10000, Loss: 0.5725778028172208\n",
      "Epoch: 3, Step: 10500, Loss: 0.5623291380248011\n",
      "Epoch: 3, Step: 11000, Loss: 0.5790020856338196\n",
      "Epoch: 3, Step: 11500, Loss: 0.5613076708396985\n",
      "Epoch: 3, Step: 12000, Loss: 0.566713942267932\n",
      "Finished a loop\n",
      "Epoch: 4, Step: 500, Loss: 0.42238066100282595\n",
      "Epoch: 4, Step: 1000, Loss: 0.4199810287749506\n",
      "Epoch: 4, Step: 1500, Loss: 0.44951883917658414\n",
      "Epoch: 4, Step: 2000, Loss: 0.46310764470552385\n",
      "Epoch: 4, Step: 2500, Loss: 0.4800784558394662\n",
      "Epoch: 4, Step: 3000, Loss: 0.455827505028632\n",
      "Epoch: 4, Step: 3500, Loss: 0.46563592235987017\n",
      "Epoch: 4, Step: 4000, Loss: 0.5016521463159006\n",
      "Epoch: 4, Step: 4500, Loss: 0.4754992173173523\n",
      "Epoch: 4, Step: 5000, Loss: 0.5168896855450003\n",
      "Epoch: 4, Step: 5500, Loss: 0.5471249737714534\n",
      "Epoch: 4, Step: 6000, Loss: 0.49806317272252637\n",
      "Epoch: 4, Step: 6500, Loss: 0.5346320702391822\n",
      "Epoch: 4, Step: 7000, Loss: 0.5207992306942469\n",
      "Epoch: 4, Step: 7500, Loss: 0.5121715555370611\n",
      "Epoch: 4, Step: 8000, Loss: 0.5526609369033229\n",
      "Epoch: 4, Step: 8500, Loss: 0.5509989945346606\n",
      "Epoch: 4, Step: 9000, Loss: 0.5130389518806624\n",
      "Epoch: 4, Step: 9500, Loss: 0.5726527759669116\n",
      "Epoch: 4, Step: 10000, Loss: 0.5465509006809444\n",
      "Epoch: 4, Step: 10500, Loss: 0.5621081472620862\n",
      "Epoch: 4, Step: 11000, Loss: 0.5253124606430647\n",
      "Epoch: 4, Step: 11500, Loss: 0.5293835515152241\n",
      "Epoch: 4, Step: 12000, Loss: 0.6144167680982501\n",
      "Finished a loop\n"
     ]
    }
   ],
   "source": [
    "step=500\n",
    "\n",
    "def training():\n",
    "    loss_history = []\n",
    "\n",
    "    for epoch in range(4): \n",
    "        running_loss = 0.0\n",
    "        for i, data in enumerate(trainloader, 0):\n",
    "            inputs, labels = data\n",
    "\n",
    "            optimizer.zero_grad()\n",
    "\n",
    "            outputs = net(inputs)\n",
    "            loss = criterion(outputs, labels)\n",
    "            loss.backward()\n",
    "            optimizer.step()\n",
    "\n",
    "            running_loss += loss.item()\n",
    "            if i % step == 0 and i!=0:    \n",
    "                loss_history.append(running_loss / step)\n",
    "                print(f\"Epoch: {epoch + 1}, Step: {i}, Loss: {running_loss / step}\")\n",
    "                running_loss = 0.0\n",
    "        print('Finished a loop')\n",
    "    return loss_history\n",
    "\n",
    "loss_history=training()\n",
    "\n"
   ]
  },
  {
   "cell_type": "markdown",
   "metadata": {},
   "source": [
    "Plot the training loss (and validation loss/accuracy, if recorded)."
   ]
  },
  {
   "cell_type": "code",
   "execution_count": null,
   "metadata": {},
   "outputs": [],
   "source": [
    "## YOUR CODE HERE ##\n",
    "plt.plot(loss_history)\n",
    "#this keeps crashing the kernel too "
   ]
  },
  {
   "cell_type": "markdown",
   "metadata": {},
   "source": [
    "## Testing your model\n",
    "Using the previously created `DataLoader` for the test set, compute the percentage of correct predictions using the highest probability prediction. \n",
    "\n",
    "If your accuracy is over 70%, great work! \n",
    "This is a hard task to exceed 70% on.\n",
    "\n",
    "If your accuracy is under 45%, you'll need to make improvements.\n",
    "Go back and check your model architecture, loss function, and optimizer to make sure they're appropriate for an image classification task."
   ]
  },
  {
   "cell_type": "code",
   "execution_count": 19,
   "metadata": {},
   "outputs": [
    {
     "name": "stdout",
     "output_type": "stream",
     "text": [
      "Accuracy of the network 63.58%\n"
     ]
    }
   ],
   "source": [
    "IS_GPU = torch.cuda.is_available()\n",
    "\n",
    "correct = 0\n",
    "total = 0\n",
    "net.eval()\n",
    "with torch.no_grad():\n",
    "    for data in testloader:\n",
    "        images, labels = data\n",
    "        if IS_GPU:\n",
    "            images, labels = images.cuda(), labels.cuda()\n",
    "        outputs = net(images)\n",
    "        _, predicted = torch.max(outputs.data, 1)\n",
    "        total += labels.size(0)\n",
    "        correct += (predicted == labels).sum().item()\n",
    "\n",
    "print(f'Accuracy of the network {100 * correct / total}%')\n",
    "\n"
   ]
  },
  {
   "cell_type": "markdown",
   "metadata": {},
   "source": [
    "## Saving your model\n",
    "Using `torch.save`, save your model for future loading."
   ]
  },
  {
   "cell_type": "code",
   "execution_count": 21,
   "metadata": {},
   "outputs": [],
   "source": [
    "## YOUR CODE HERE ##\n",
    "torch.save(net.state_dict(), 'saved_model.pth')"
   ]
  },
  {
   "cell_type": "markdown",
   "metadata": {},
   "source": [
    "## Make a Recommendation\n",
    "\n",
    "Based on your evaluation, what is your recommendation on whether to build or buy? Explain your reasoning below.\n",
    "it depends on the use if a very high accuracy is desired i recommend buying one or building one which will need money too so it depends on the task needed"
   ]
  },
  {
   "cell_type": "markdown",
   "metadata": {},
   "source": [
    "\n",
    "\n",
    "**Double click this cell to modify it**\n",
    "\n"
   ]
  }
 ],
 "metadata": {
  "kernelspec": {
   "display_name": "Python 3",
   "language": "python",
   "name": "python3"
  },
  "language_info": {
   "codemirror_mode": {
    "name": "ipython",
    "version": 3
   },
   "file_extension": ".py",
   "mimetype": "text/x-python",
   "name": "python",
   "nbconvert_exporter": "python",
   "pygments_lexer": "ipython3",
   "version": "3.8.8"
  }
 },
 "nbformat": 4,
 "nbformat_minor": 4
}
